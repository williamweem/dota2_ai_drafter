{
 "cells": [
  {
   "cell_type": "code",
   "execution_count": 1,
   "metadata": {},
   "outputs": [],
   "source": [
    "import pandas as pd\n",
    "import tensorflow as tf\n",
    "from sklearn.model_selection import train_test_split\n",
    "import matplotlib.pyplot as plt\n",
    "\n",
    "def plot_accuracy(history,title):\n",
    "    plt.title(title)\n",
    "    plt.plot(history.history.history['accuracy'])\n",
    "    plt.plot(history.history.history['val_accuracy'])\n",
    "    plt.ylabel('accuracy')\n",
    "    plt.xlabel('epoch')\n",
    "    plt.legend(['train_accuracy', 'validation_accuracy'], loc='best')\n",
    "    plt.show()\n",
    "\n",
    "def plot_loss(history,title):\n",
    "    plt.title(title)\n",
    "    plt.plot(history.history.history['loss'])\n",
    "    plt.plot(history.history.history['val_loss'])\n",
    "    plt.ylabel('loss')\n",
    "    plt.xlabel('epoch')\n",
    "    plt.legend(['train_loss', 'validation_loss'], loc='best')\n",
    "    plt.show()"
   ]
  },
  {
   "cell_type": "code",
   "execution_count": 2,
   "metadata": {},
   "outputs": [],
   "source": [
    "df = pd.read_csv(\"../data/preprocessed_data.csv\")\n",
    "x = df[df.columns.tolist()[:-1]]\n",
    "y = df[df.columns.tolist()[-1]]"
   ]
  },
  {
   "cell_type": "code",
   "execution_count": 3,
   "metadata": {},
   "outputs": [],
   "source": [
    "# x_train, x_test, y_train, y_test = train_test_split(x,y,test_size=0.2)"
   ]
  },
  {
   "cell_type": "code",
   "execution_count": 4,
   "metadata": {},
   "outputs": [],
   "source": [
    "model = tf.keras.Sequential([\n",
    "    tf.keras.layers.Dense(120, input_dim=119 ,activation='relu'),        \n",
    "    tf.keras.layers.Dense(1, activation=\"sigmoid\")\n",
    "])\n",
    "\n",
    "model.compile(\n",
    "    loss=\"binary_crossentropy\",\n",
    "    optimizer=\"adam\",\n",
    "    metrics=[\"accuracy\"]\n",
    ")"
   ]
  },
  {
   "cell_type": "code",
   "execution_count": 5,
   "metadata": {},
   "outputs": [
    {
     "name": "stdout",
     "output_type": "stream",
     "text": [
      "Model: \"sequential\"\n",
      "_________________________________________________________________\n",
      "Layer (type)                 Output Shape              Param #   \n",
      "=================================================================\n",
      "dense (Dense)                (None, 120)               14400     \n",
      "_________________________________________________________________\n",
      "dense_1 (Dense)              (None, 1)                 121       \n",
      "=================================================================\n",
      "Total params: 14,521\n",
      "Trainable params: 14,521\n",
      "Non-trainable params: 0\n",
      "_________________________________________________________________\n"
     ]
    }
   ],
   "source": [
    "model.summary()"
   ]
  },
  {
   "cell_type": "code",
   "execution_count": 6,
   "metadata": {
    "scrolled": true
   },
   "outputs": [
    {
     "name": "stdout",
     "output_type": "stream",
     "text": [
      "Train on 919 samples, validate on 395 samples\n",
      "Epoch 1/30\n",
      "919/919 [==============================] - 1s 672us/sample - loss: 0.6863 - accuracy: 0.5582 - val_loss: 0.6546 - val_accuracy: 0.6481\n",
      "Epoch 2/30\n",
      "919/919 [==============================] - 0s 106us/sample - loss: 0.6416 - accuracy: 0.6485 - val_loss: 0.6419 - val_accuracy: 0.6532\n",
      "Epoch 3/30\n",
      "919/919 [==============================] - 0s 96us/sample - loss: 0.6103 - accuracy: 0.6921 - val_loss: 0.6394 - val_accuracy: 0.6658\n",
      "Epoch 4/30\n",
      "919/919 [==============================] - 0s 115us/sample - loss: 0.5836 - accuracy: 0.7149 - val_loss: 0.6358 - val_accuracy: 0.6532\n",
      "Epoch 5/30\n",
      "919/919 [==============================] - 0s 113us/sample - loss: 0.5579 - accuracy: 0.7454 - val_loss: 0.6381 - val_accuracy: 0.6430\n",
      "Epoch 6/30\n",
      "919/919 [==============================] - 0s 96us/sample - loss: 0.5338 - accuracy: 0.7628 - val_loss: 0.6416 - val_accuracy: 0.6532\n",
      "Epoch 7/30\n",
      "919/919 [==============================] - 0s 135us/sample - loss: 0.5096 - accuracy: 0.7856 - val_loss: 0.6485 - val_accuracy: 0.6456\n",
      "Epoch 8/30\n",
      "919/919 [==============================] - 0s 91us/sample - loss: 0.4887 - accuracy: 0.8020 - val_loss: 0.6549 - val_accuracy: 0.6430\n",
      "Epoch 9/30\n",
      "919/919 [==============================] - 0s 102us/sample - loss: 0.4681 - accuracy: 0.8161 - val_loss: 0.6654 - val_accuracy: 0.6329\n",
      "Epoch 10/30\n",
      "919/919 [==============================] - 0s 93us/sample - loss: 0.4468 - accuracy: 0.8303 - val_loss: 0.6707 - val_accuracy: 0.6354\n",
      "Epoch 11/30\n",
      "919/919 [==============================] - 0s 107us/sample - loss: 0.4258 - accuracy: 0.8433 - val_loss: 0.6807 - val_accuracy: 0.6203\n",
      "Epoch 12/30\n",
      "919/919 [==============================] - 0s 109us/sample - loss: 0.4057 - accuracy: 0.8585 - val_loss: 0.6917 - val_accuracy: 0.6228\n",
      "Epoch 13/30\n",
      "919/919 [==============================] - 0s 146us/sample - loss: 0.3859 - accuracy: 0.8781 - val_loss: 0.6962 - val_accuracy: 0.6228\n",
      "Epoch 14/30\n",
      "919/919 [==============================] - 0s 145us/sample - loss: 0.3668 - accuracy: 0.8825 - val_loss: 0.7070 - val_accuracy: 0.6101\n",
      "Epoch 15/30\n",
      "919/919 [==============================] - 0s 95us/sample - loss: 0.3464 - accuracy: 0.8977 - val_loss: 0.7157 - val_accuracy: 0.6127\n",
      "Epoch 16/30\n",
      "919/919 [==============================] - 0s 99us/sample - loss: 0.3274 - accuracy: 0.9173 - val_loss: 0.7227 - val_accuracy: 0.6076\n",
      "Epoch 17/30\n",
      "919/919 [==============================] - 0s 92us/sample - loss: 0.3077 - accuracy: 0.9249 - val_loss: 0.7291 - val_accuracy: 0.5975\n",
      "Epoch 18/30\n",
      "919/919 [==============================] - 0s 102us/sample - loss: 0.2882 - accuracy: 0.9434 - val_loss: 0.7389 - val_accuracy: 0.6051\n",
      "Epoch 19/30\n",
      "919/919 [==============================] - 0s 110us/sample - loss: 0.2704 - accuracy: 0.9532 - val_loss: 0.7418 - val_accuracy: 0.6025\n",
      "Epoch 20/30\n",
      "919/919 [==============================] - 0s 98us/sample - loss: 0.2528 - accuracy: 0.9630 - val_loss: 0.7480 - val_accuracy: 0.5975\n",
      "Epoch 21/30\n",
      "919/919 [==============================] - 0s 129us/sample - loss: 0.2355 - accuracy: 0.9793 - val_loss: 0.7565 - val_accuracy: 0.5924\n",
      "Epoch 22/30\n",
      "919/919 [==============================] - 0s 120us/sample - loss: 0.2198 - accuracy: 0.9793 - val_loss: 0.7666 - val_accuracy: 0.6000\n",
      "Epoch 23/30\n",
      "919/919 [==============================] - 0s 89us/sample - loss: 0.2029 - accuracy: 0.9869 - val_loss: 0.7750 - val_accuracy: 0.6051\n",
      "Epoch 24/30\n",
      "919/919 [==============================] - 0s 111us/sample - loss: 0.1887 - accuracy: 0.9891 - val_loss: 0.7812 - val_accuracy: 0.5975\n",
      "Epoch 25/30\n",
      "919/919 [==============================] - 0s 107us/sample - loss: 0.1752 - accuracy: 0.9902 - val_loss: 0.7845 - val_accuracy: 0.6025\n",
      "Epoch 26/30\n",
      "919/919 [==============================] - 0s 99us/sample - loss: 0.1628 - accuracy: 0.9924 - val_loss: 0.7978 - val_accuracy: 0.6051\n",
      "Epoch 27/30\n",
      "919/919 [==============================] - 0s 109us/sample - loss: 0.1494 - accuracy: 0.9956 - val_loss: 0.8052 - val_accuracy: 0.6000\n",
      "Epoch 28/30\n",
      "919/919 [==============================] - 0s 102us/sample - loss: 0.1385 - accuracy: 0.9967 - val_loss: 0.8121 - val_accuracy: 0.6000\n",
      "Epoch 29/30\n",
      "919/919 [==============================] - 0s 112us/sample - loss: 0.1285 - accuracy: 0.9978 - val_loss: 0.8242 - val_accuracy: 0.6101\n",
      "Epoch 30/30\n",
      "919/919 [==============================] - 0s 102us/sample - loss: 0.1187 - accuracy: 0.9978 - val_loss: 0.8322 - val_accuracy: 0.6000\n"
     ]
    },
    {
     "data": {
      "text/plain": [
       "<tensorflow.python.keras.callbacks.History at 0x26e5382ce80>"
      ]
     },
     "execution_count": 6,
     "metadata": {},
     "output_type": "execute_result"
    }
   ],
   "source": [
    "model.fit(x, y, epochs=30, validation_split=0.3)"
   ]
  },
  {
   "cell_type": "code",
   "execution_count": 7,
   "metadata": {},
   "outputs": [
    {
     "name": "stdout",
     "output_type": "stream",
     "text": [
      "1314/1314 [==============================] - 0s 47us/sample - loss: 0.3264 - accuracy: 0.8782\n",
      "accuracy: 87.82343864440918\n"
     ]
    }
   ],
   "source": [
    "scores = model.evaluate(x,y)\n",
    "print(\"{}: {}\".format(model.metrics_names[1], scores[1]*100))"
   ]
  },
  {
   "cell_type": "code",
   "execution_count": 8,
   "metadata": {},
   "outputs": [
    {
     "data": {
      "image/png": "[encoded data removed]",
      "text/plain": [
       "<Figure size 432x288 with 1 Axes>"
      ]
     },
     "metadata": {
      "needs_background": "light"
     },
     "output_type": "display_data"
    },
    {
     "data": {
      "image/png": "[encoded data removed]",
      "text/plain": [
       "<Figure size 432x288 with 1 Axes>"
      ]
     },
     "metadata": {
      "needs_background": "light"
     },
     "output_type": "display_data"
    }
   ],
   "source": [
    "plot_accuracy(model,\"ANN\")\n",
    "plot_loss(model,\"ANN\")"
   ]
  },
  {
   "cell_type": "code",
   "execution_count": 9,
   "metadata": {},
   "outputs": [],
   "source": [
    "model.save(\"../models/model.h5\")"
   ]
  },
  {
   "cell_type": "code",
   "execution_count": 10,
   "metadata": {},
   "outputs": [],
   "source": [
    "model_loaded = tf.keras.models.load_model(\"../models/model.h5\")"
   ]
  },
  {
   "cell_type": "code",
   "execution_count": 11,
   "metadata": {},
   "outputs": [
    {
     "name": "stdout",
     "output_type": "stream",
     "text": [
      "Model: \"sequential\"\n",
      "_________________________________________________________________\n",
      "Layer (type)                 Output Shape              Param #   \n",
      "=================================================================\n",
      "dense (Dense)                (None, 120)               14400     \n",
      "_________________________________________________________________\n",
      "dense_1 (Dense)              (None, 1)                 121       \n",
      "=================================================================\n",
      "Total params: 14,521\n",
      "Trainable params: 14,521\n",
      "Non-trainable params: 0\n",
      "_________________________________________________________________\n"
     ]
    }
   ],
   "source": [
    "model_loaded.summary()"
   ]
  },
  {
   "cell_type": "code",
   "execution_count": 31,
   "metadata": {},
   "outputs": [
    {
     "data": {
      "text/plain": [
       "0.16512422"
      ]
     },
     "execution_count": 31,
     "metadata": {},
     "output_type": "execute_result"
    }
   ],
   "source": [
    "model_loaded.predict(x.iloc[0:1,:].to_numpy())[0,0]"
   ]
  },
  {
   "cell_type": "code",
   "execution_count": 25,
   "metadata": {},
   "outputs": [
    {
     "data": {
      "text/html": [
       "<div>\n",
       "<style scoped>\n",
       "    .dataframe tbody tr th:only-of-type {\n",
       "        vertical-align: middle;\n",
       "    }\n",
       "\n",
       "    .dataframe tbody tr th {\n",
       "        vertical-align: top;\n",
       "    }\n",
       "\n",
       "    .dataframe thead th {\n",
       "        text-align: right;\n",
       "    }\n",
       "</style>\n",
       "<table border=\"1\" class=\"dataframe\">\n",
       "  <thead>\n",
       "    <tr style=\"text-align: right;\">\n",
       "      <th></th>\n",
       "      <th>abaddon</th>\n",
       "      <th>abyssal_underlord</th>\n",
       "      <th>alchemist</th>\n",
       "      <th>ancient_apparition</th>\n",
       "      <th>antimage</th>\n",
       "      <th>arc_warden</th>\n",
       "      <th>axe</th>\n",
       "      <th>bane</th>\n",
       "      <th>batrider</th>\n",
       "      <th>beastmaster</th>\n",
       "      <th>...</th>\n",
       "      <th>viper</th>\n",
       "      <th>visage</th>\n",
       "      <th>void_spirit</th>\n",
       "      <th>warlock</th>\n",
       "      <th>weaver</th>\n",
       "      <th>windrunner</th>\n",
       "      <th>winter_wyvern</th>\n",
       "      <th>wisp</th>\n",
       "      <th>witch_doctor</th>\n",
       "      <th>zuus</th>\n",
       "    </tr>\n",
       "  </thead>\n",
       "  <tbody>\n",
       "    <tr>\n",
       "      <th>0</th>\n",
       "      <td>-1</td>\n",
       "      <td>0</td>\n",
       "      <td>0</td>\n",
       "      <td>0</td>\n",
       "      <td>0</td>\n",
       "      <td>0</td>\n",
       "      <td>0</td>\n",
       "      <td>0</td>\n",
       "      <td>0</td>\n",
       "      <td>0</td>\n",
       "      <td>...</td>\n",
       "      <td>0</td>\n",
       "      <td>0</td>\n",
       "      <td>0</td>\n",
       "      <td>0</td>\n",
       "      <td>0</td>\n",
       "      <td>0</td>\n",
       "      <td>0</td>\n",
       "      <td>0</td>\n",
       "      <td>0</td>\n",
       "      <td>0</td>\n",
       "    </tr>\n",
       "  </tbody>\n",
       "</table>\n",
       "<p>1 rows × 119 columns</p>\n",
       "</div>"
      ],
      "text/plain": [
       "   abaddon  abyssal_underlord  alchemist  ancient_apparition  antimage  \\\n",
       "0       -1                  0          0                   0         0   \n",
       "\n",
       "   arc_warden  axe  bane  batrider  beastmaster  ...  viper  visage  \\\n",
       "0           0    0     0         0            0  ...      0       0   \n",
       "\n",
       "   void_spirit  warlock  weaver  windrunner  winter_wyvern  wisp  \\\n",
       "0            0        0       0           0              0     0   \n",
       "\n",
       "   witch_doctor  zuus  \n",
       "0             0     0  \n",
       "\n",
       "[1 rows x 119 columns]"
      ]
     },
     "execution_count": 25,
     "metadata": {},
     "output_type": "execute_result"
    }
   ],
   "source": [
    "x.iloc[0:1,:]"
   ]
  }
 ],
 "metadata": {
  "kernelspec": {
   "display_name": "Python 3",
   "language": "python",
   "name": "python3"
  },
  "language_info": {
   "codemirror_mode": {
    "name": "ipython",
    "version": 3
   },
   "file_extension": ".py",
   "mimetype": "text/x-python",
   "name": "python",
   "nbconvert_exporter": "python",
   "pygments_lexer": "ipython3",
   "version": "3.7.3"
  },
  "toc": {
   "base_numbering": 1,
   "nav_menu": {},
   "number_sections": true,
   "sideBar": true,
   "skip_h1_title": false,
   "title_cell": "Table of Contents",
   "title_sidebar": "Contents",
   "toc_cell": false,
   "toc_position": {},
   "toc_section_display": true,
   "toc_window_display": false
  }
 },
 "nbformat": 4,
 "nbformat_minor": 2
}
