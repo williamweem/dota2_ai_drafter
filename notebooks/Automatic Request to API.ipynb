{
 "cells": [
  {
   "cell_type": "code",
   "execution_count": null,
   "metadata": {
    "_cell_guid": "b1076dfc-b9ad-4769-8c92-a6c4dae69d19",
    "_uuid": "8f2839f25d086af736a60e9eeb907d3b93b6e0e5"
   },
   "outputs": [],
   "source": [
    "import time\n",
    "import json\n",
    "import requests\n",
    "import numpy as np\n",
    "import pandas as pd\n",
    "from pandas.io.json import json_normalize\n",
    "\n",
    "class OpenDotaAPI():\n",
    "    def __init__(self, verbose = False):\n",
    "        self.verbose = verbose\n",
    "        self.last_match_id = 0\n",
    "\n",
    "    def _call(self, url, parameters, tries= 2):\n",
    "        for i in range(tries):\n",
    "            try:\n",
    "                if self.verbose: print(\"Sending API request... \", end=\"\", flush=True)\n",
    "                resp = requests.get(url, params= parameters, timeout= 20)\n",
    "                load_resp = json.loads(resp.text)\n",
    "                if self.verbose: print(\"done\")\n",
    "                return load_resp\n",
    "            except Exception as e:\n",
    "                print(\"failed. Trying again in 5s\")\n",
    "                print(e)\n",
    "                time.sleep(5)\n",
    "        else:\n",
    "            ValueError(\"Unable to connect to OpenDota API\")\n",
    "\n",
    "    # Return a list of 100 recent matches; save smaller match_id\n",
    "    def get_recent_matches(self, use_last_match = False):\n",
    "        params = dict()\n",
    "        if use_last_match:\n",
    "            params['less_than_match_id'] = self.last_match_id\n",
    "            params[\"mmr_descending\"] = 1\n",
    "        url = \"https://api.opendota.com/api/publicMatches\"\n",
    "        matches = self._call(url, params)\n",
    "        #self.last_match_id = min([item['match_id'] for item in matches])\n",
    "        return matches\n",
    "\n",
    "def main():\n",
    "    api = OpenDotaAPI(verbose= True)\n",
    "    # recent_matches = filter_matches(api.get_recent_matches(use_last_match = True))\n",
    "    recent_matches = api.get_recent_matches(use_last_match = True)\n",
    "    return recent_matches\n",
    "\n",
    "\n",
    "def filter_matches(matches_list):\n",
    "    return list(filter(lambda m: _filter_function(m), matches_list))\n",
    "\n",
    "def _filter_function(match):\n",
    "    if match['duration'] < 1000 or match['duration'] > 4200:\n",
    "        return False\n",
    "    elif match['lobby_type'] < 5 or match['lobby_type'] > 7:\n",
    "        return False\n",
    "    else:\n",
    "        return True\n",
    "\n",
    "def execute():\n",
    "    df = pd.DataFrame()\n",
    "    for i in range(10):\n",
    "        temp = json_normalize(main())\n",
    "        df = pd.concat([df,temp], ignore_index=True)\n",
    "        print(\"Sleeping......\")\n",
    "        time.sleep(600)\n",
    "    return df"
   ]
  },
  {
   "cell_type": "code",
   "execution_count": null,
   "metadata": {},
   "outputs": [
    {
     "name": "stdout",
     "output_type": "stream",
     "text": [
      "Sending API request... done\n",
      "Sending API request... done\n",
      "Sending API request... done\n"
     ]
    }
   ],
   "source": [
    "df = execute()"
   ]
  },
  {
   "cell_type": "code",
   "execution_count": null,
   "metadata": {},
   "outputs": [],
   "source": [
    "df.to_csv(\"Dataset_dota2.csv\", index=False)"
   ]
  }
 ],
 "metadata": {
  "kernelspec": {
   "display_name": "Python 3",
   "language": "python",
   "name": "python3"
  },
  "language_info": {
   "codemirror_mode": {
    "name": "ipython",
    "version": 3
   },
   "file_extension": ".py",
   "mimetype": "text/x-python",
   "name": "python",
   "nbconvert_exporter": "python",
   "pygments_lexer": "ipython3",
   "version": "3.7.3"
  },
  "toc": {
   "base_numbering": 1,
   "nav_menu": {},
   "number_sections": true,
   "sideBar": true,
   "skip_h1_title": false,
   "title_cell": "Table of Contents",
   "title_sidebar": "Contents",
   "toc_cell": false,
   "toc_position": {},
   "toc_section_display": true,
   "toc_window_display": false
  }
 },
 "nbformat": 4,
 "nbformat_minor": 1
}
