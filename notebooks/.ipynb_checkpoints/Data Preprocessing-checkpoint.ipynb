{
 "cells": [
  {
   "cell_type": "code",
   "execution_count": 14,
   "metadata": {},
   "outputs": [],
   "source": [
    "import pandas as pd"
   ]
  },
  {
   "cell_type": "code",
   "execution_count": 15,
   "metadata": {},
   "outputs": [],
   "source": [
    "hero_id = pd.json_normalize(pd.read_json(\"../data/Hero ID.txt\").at[\"heroes\",\"result\"])\n",
    "hero_id[\"name\"] = hero_id[\"name\"].str.replace(\"npc_dota_hero_\",\"\")"
   ]
  },
  {
   "cell_type": "code",
   "execution_count": 16,
   "metadata": {},
   "outputs": [
    {
     "data": {
      "text/html": [
       "<div>\n",
       "<style scoped>\n",
       "    .dataframe tbody tr th:only-of-type {\n",
       "        vertical-align: middle;\n",
       "    }\n",
       "\n",
       "    .dataframe tbody tr th {\n",
       "        vertical-align: top;\n",
       "    }\n",
       "\n",
       "    .dataframe thead th {\n",
       "        text-align: right;\n",
       "    }\n",
       "</style>\n",
       "<table border=\"1\" class=\"dataframe\">\n",
       "  <thead>\n",
       "    <tr style=\"text-align: right;\">\n",
       "      <th></th>\n",
       "      <th>name</th>\n",
       "      <th>id</th>\n",
       "    </tr>\n",
       "  </thead>\n",
       "  <tbody>\n",
       "    <tr>\n",
       "      <th>100</th>\n",
       "      <td>abaddon</td>\n",
       "      <td>102</td>\n",
       "    </tr>\n",
       "    <tr>\n",
       "      <th>71</th>\n",
       "      <td>alchemist</td>\n",
       "      <td>73</td>\n",
       "    </tr>\n",
       "    <tr>\n",
       "      <th>67</th>\n",
       "      <td>ancient_apparition</td>\n",
       "      <td>68</td>\n",
       "    </tr>\n",
       "    <tr>\n",
       "      <th>0</th>\n",
       "      <td>antimage</td>\n",
       "      <td>1</td>\n",
       "    </tr>\n",
       "    <tr>\n",
       "      <th>110</th>\n",
       "      <td>arc_warden</td>\n",
       "      <td>113</td>\n",
       "    </tr>\n",
       "    <tr>\n",
       "      <th>...</th>\n",
       "      <td>...</td>\n",
       "      <td>...</td>\n",
       "    </tr>\n",
       "    <tr>\n",
       "      <th>20</th>\n",
       "      <td>windrunner</td>\n",
       "      <td>21</td>\n",
       "    </tr>\n",
       "    <tr>\n",
       "      <th>109</th>\n",
       "      <td>winter_wyvern</td>\n",
       "      <td>112</td>\n",
       "    </tr>\n",
       "    <tr>\n",
       "      <th>29</th>\n",
       "      <td>witch_doctor</td>\n",
       "      <td>30</td>\n",
       "    </tr>\n",
       "    <tr>\n",
       "      <th>40</th>\n",
       "      <td>wraith_king</td>\n",
       "      <td>42</td>\n",
       "    </tr>\n",
       "    <tr>\n",
       "      <th>21</th>\n",
       "      <td>zeus</td>\n",
       "      <td>22</td>\n",
       "    </tr>\n",
       "  </tbody>\n",
       "</table>\n",
       "<p>119 rows × 2 columns</p>\n",
       "</div>"
      ],
      "text/plain": [
       "                   name   id\n",
       "100             abaddon  102\n",
       "71            alchemist   73\n",
       "67   ancient_apparition   68\n",
       "0              antimage    1\n",
       "110          arc_warden  113\n",
       "..                  ...  ...\n",
       "20           windrunner   21\n",
       "109       winter_wyvern  112\n",
       "29         witch_doctor   30\n",
       "40          wraith_king   42\n",
       "21                 zeus   22\n",
       "\n",
       "[119 rows x 2 columns]"
      ]
     },
     "execution_count": 16,
     "metadata": {},
     "output_type": "execute_result"
    }
   ],
   "source": [
    "hero_id.sort_values(by=\"name\")"
   ]
  },
  {
   "cell_type": "code",
   "execution_count": 17,
   "metadata": {},
   "outputs": [
    {
     "name": "stdout",
     "output_type": "stream",
     "text": [
      "(12114, 14)\n",
      "(9688, 14)\n"
     ]
    }
   ],
   "source": [
    "ori = pd.read_csv(\"../data/raw_data_csv.csv\")\n",
    "print(ori.shape)\n",
    "ori = ori.drop_duplicates()\n",
    "print(ori.shape)"
   ]
  },
  {
   "cell_type": "code",
   "execution_count": 18,
   "metadata": {},
   "outputs": [],
   "source": [
    "df = ori[[\"radiant_win\",\"radiant_team\",\"dire_team\"]]\n",
    "\n",
    "x = df[\"radiant_team\"].str.split(r',', expand=True).stack().reset_index(level=1, drop=True).to_frame('radiant_team')\n",
    "#x[\"radiant_team\"] = x[\"radiant_team\"].map(dict(zip(hero_id[\"id\"].astype(\"str\"),hero_id[\"name\"])))\n",
    "x = pd.get_dummies(x, prefix='', prefix_sep=\"\", columns=['radiant_team']).groupby(level=0).sum().astype(\"int\")\n",
    "x.columns = x.columns.map(int)\n",
    "x = x.reindex(sorted(x.columns), axis=1)\n",
    "\n",
    "y = df[\"dire_team\"].str.split(r',', expand=True).stack().reset_index(level=1, drop=True).to_frame('dire_team')\n",
    "#y[\"dire_team\"] = y[\"dire_team\"].map(dict(zip(hero_id[\"id\"].astype(\"str\"),hero_id[\"name\"])))\n",
    "y = pd.get_dummies(y, prefix='', prefix_sep=\"\", columns=['dire_team']).groupby(level=0).sum().astype(\"int\")\n",
    "y.columns = y.columns.map(int)\n",
    "y = y.reindex(sorted(y.columns), axis=1)\n",
    "\n",
    "hero = x-y\n",
    "hero[\"radiant_win\"] = df[\"radiant_win\"].astype(\"int\")"
   ]
  },
  {
   "cell_type": "code",
   "execution_count": 19,
   "metadata": {},
   "outputs": [],
   "source": [
    "hero.to_csv(\"../data/preprocessed_data.csv\", index=False)"
   ]
  }
 ],
 "metadata": {
  "kernelspec": {
   "display_name": "Python 3",
   "language": "python",
   "name": "python3"
  },
  "language_info": {
   "codemirror_mode": {
    "name": "ipython",
    "version": 3
   },
   "file_extension": ".py",
   "mimetype": "text/x-python",
   "name": "python",
   "nbconvert_exporter": "python",
   "pygments_lexer": "ipython3",
   "version": "3.7.3"
  },
  "toc": {
   "base_numbering": 1,
   "nav_menu": {},
   "number_sections": true,
   "sideBar": true,
   "skip_h1_title": false,
   "title_cell": "Table of Contents",
   "title_sidebar": "Contents",
   "toc_cell": false,
   "toc_position": {},
   "toc_section_display": true,
   "toc_window_display": false
  }
 },
 "nbformat": 4,
 "nbformat_minor": 2
}
