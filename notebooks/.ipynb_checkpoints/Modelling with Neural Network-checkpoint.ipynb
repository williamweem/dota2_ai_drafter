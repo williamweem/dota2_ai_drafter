{
 "cells": [
  {
   "cell_type": "code",
   "execution_count": 1,
   "metadata": {},
   "outputs": [],
   "source": [
    "import pandas as pd\n",
    "import tensorflow as tf\n",
    "from sklearn.model_selection import train_test_split\n",
    "import matplotlib.pyplot as plt\n",
    "\n",
    "def plot_accuracy(history,title):\n",
    "    plt.title(title)\n",
    "    plt.plot(history.history.history['accuracy'])\n",
    "    plt.plot(history.history.history['val_accuracy'])\n",
    "    plt.ylabel('accuracy')\n",
    "    plt.xlabel('epoch')\n",
    "    plt.legend(['train_accuracy', 'validation_accuracy'], loc='best')\n",
    "    plt.show()\n",
    "\n",
    "def plot_loss(history,title):\n",
    "    plt.title(title)\n",
    "    plt.plot(history.history.history['loss'])\n",
    "    plt.plot(history.history.history['val_loss'])\n",
    "    plt.ylabel('loss')\n",
    "    plt.xlabel('epoch')\n",
    "    plt.legend(['train_loss', 'validation_loss'], loc='best')\n",
    "    plt.show()"
   ]
  },
  {
   "cell_type": "code",
   "execution_count": 2,
   "metadata": {},
   "outputs": [
    {
     "name": "stdout",
     "output_type": "stream",
     "text": [
      "(9688, 119)\n",
      "(9688,)\n"
     ]
    }
   ],
   "source": [
    "df = pd.read_csv(\"../data/preprocessed_data.csv\")\n",
    "x = df[df.columns.tolist()[:-1]]\n",
    "y = df[df.columns.tolist()[-1]]\n",
    "print(x.shape)\n",
    "print(y.shape)"
   ]
  },
  {
   "cell_type": "code",
   "execution_count": 3,
   "metadata": {},
   "outputs": [],
   "source": [
    "# x_train, x_test, y_train, y_test = train_test_split(x,y,test_size=0.2)"
   ]
  },
  {
   "cell_type": "code",
   "execution_count": 4,
   "metadata": {},
   "outputs": [],
   "source": [
    "model = tf.keras.Sequential([\n",
    "    tf.keras.layers.Dense(64, input_dim=119, activation='relu', kernel_initializer=tf.keras.initializers.he_normal()),\n",
    "    tf.keras.layers.Dropout(rate=0.5),\n",
    "    tf.keras.layers.Dense(32, activation='relu', kernel_initializer=tf.keras.initializers.he_normal()),\n",
    "    #tf.keras.layers.Dense(32, activation='relu', kernel_initializer=tf.keras.initializers.he_normal()), \n",
    "    tf.keras.layers.Dense(1, activation=\"sigmoid\")\n",
    "])\n",
    "\n",
    "model.compile(\n",
    "    loss=\"binary_crossentropy\",\n",
    "    optimizer = tf.keras.optimizers.Adam(learning_rate = 0.001),\n",
    "    metrics=[\"accuracy\"]\n",
    ")"
   ]
  },
  {
   "cell_type": "code",
   "execution_count": 5,
   "metadata": {},
   "outputs": [
    {
     "name": "stdout",
     "output_type": "stream",
     "text": [
      "Model: \"sequential\"\n",
      "_________________________________________________________________\n",
      "Layer (type)                 Output Shape              Param #   \n",
      "=================================================================\n",
      "dense (Dense)                (None, 64)                7680      \n",
      "_________________________________________________________________\n",
      "dropout (Dropout)            (None, 64)                0         \n",
      "_________________________________________________________________\n",
      "dense_1 (Dense)              (None, 32)                2080      \n",
      "_________________________________________________________________\n",
      "dense_2 (Dense)              (None, 1)                 33        \n",
      "=================================================================\n",
      "Total params: 9,793\n",
      "Trainable params: 9,793\n",
      "Non-trainable params: 0\n",
      "_________________________________________________________________\n"
     ]
    }
   ],
   "source": [
    "model.summary()"
   ]
  },
  {
   "cell_type": "code",
   "execution_count": 6,
   "metadata": {
    "scrolled": true
   },
   "outputs": [
    {
     "name": "stdout",
     "output_type": "stream",
     "text": [
      "Train on 7750 samples, validate on 1938 samples\n",
      "Epoch 1/50\n",
      "7750/7750 [==============================] - 1s 146us/sample - loss: 0.6862 - accuracy: 0.5648 - val_loss: 0.6884 - val_accuracy: 0.5820\n",
      "Epoch 2/50\n",
      "7750/7750 [==============================] - 1s 81us/sample - loss: 0.6419 - accuracy: 0.6284 - val_loss: 0.6758 - val_accuracy: 0.6109\n",
      "Epoch 3/50\n",
      "7750/7750 [==============================] - 1s 92us/sample - loss: 0.6020 - accuracy: 0.6698 - val_loss: 0.6808 - val_accuracy: 0.6058\n",
      "Epoch 4/50\n",
      "7750/7750 [==============================] - 1s 86us/sample - loss: 0.5621 - accuracy: 0.7128 - val_loss: 0.6836 - val_accuracy: 0.5965\n",
      "Epoch 5/50\n",
      "7750/7750 [==============================] - 1s 81us/sample - loss: 0.5292 - accuracy: 0.7392 - val_loss: 0.6934 - val_accuracy: 0.5944\n",
      "Epoch 6/50\n",
      "7750/7750 [==============================] - 1s 78us/sample - loss: 0.4940 - accuracy: 0.7645 - val_loss: 0.7045 - val_accuracy: 0.6084\n",
      "Epoch 7/50\n",
      "7750/7750 [==============================] - 1s 94us/sample - loss: 0.4684 - accuracy: 0.7862 - val_loss: 0.7193 - val_accuracy: 0.6166\n",
      "Epoch 8/50\n",
      "7750/7750 [==============================] - 1s 80us/sample - loss: 0.4361 - accuracy: 0.8021 - val_loss: 0.7261 - val_accuracy: 0.6001\n",
      "Epoch 9/50\n",
      "7750/7750 [==============================] - 1s 80us/sample - loss: 0.4199 - accuracy: 0.8145 - val_loss: 0.7343 - val_accuracy: 0.6089\n",
      "Epoch 10/50\n",
      "7750/7750 [==============================] - 1s 77us/sample - loss: 0.4047 - accuracy: 0.8268 - val_loss: 0.7290 - val_accuracy: 0.6171\n",
      "Epoch 11/50\n",
      "7750/7750 [==============================] - 1s 72us/sample - loss: 0.3719 - accuracy: 0.8434 - val_loss: 0.7270 - val_accuracy: 0.6192\n",
      "Epoch 12/50\n",
      "7750/7750 [==============================] - 1s 76us/sample - loss: 0.3601 - accuracy: 0.8479 - val_loss: 0.7494 - val_accuracy: 0.6156\n",
      "Epoch 13/50\n",
      "7750/7750 [==============================] - 1s 79us/sample - loss: 0.3349 - accuracy: 0.8572 - val_loss: 0.7731 - val_accuracy: 0.6290\n",
      "Epoch 14/50\n",
      "7750/7750 [==============================] - 1s 73us/sample - loss: 0.3223 - accuracy: 0.8653 - val_loss: 0.8040 - val_accuracy: 0.6321\n",
      "Epoch 15/50\n",
      "7750/7750 [==============================] - 1s 76us/sample - loss: 0.3211 - accuracy: 0.8688 - val_loss: 0.8017 - val_accuracy: 0.6182\n",
      "Epoch 16/50\n",
      "7750/7750 [==============================] - 1s 88us/sample - loss: 0.2974 - accuracy: 0.8772 - val_loss: 0.8229 - val_accuracy: 0.6254\n",
      "Epoch 17/50\n",
      "7750/7750 [==============================] - 1s 86us/sample - loss: 0.2941 - accuracy: 0.8817 - val_loss: 0.8304 - val_accuracy: 0.6264\n",
      "Epoch 18/50\n",
      "7750/7750 [==============================] - 1s 81us/sample - loss: 0.2737 - accuracy: 0.8895 - val_loss: 0.8343 - val_accuracy: 0.6011\n",
      "Epoch 19/50\n",
      "7750/7750 [==============================] - 1s 72us/sample - loss: 0.2660 - accuracy: 0.8921 - val_loss: 0.8726 - val_accuracy: 0.6275\n",
      "Epoch 20/50\n",
      "7750/7750 [==============================] - 1s 72us/sample - loss: 0.2559 - accuracy: 0.9030 - val_loss: 0.8430 - val_accuracy: 0.6290\n",
      "Epoch 21/50\n",
      "7750/7750 [==============================] - 1s 72us/sample - loss: 0.2507 - accuracy: 0.9028 - val_loss: 0.8862 - val_accuracy: 0.6538\n",
      "Epoch 22/50\n",
      "7750/7750 [==============================] - 1s 73us/sample - loss: 0.2440 - accuracy: 0.9004 - val_loss: 0.9053 - val_accuracy: 0.6259\n",
      "Epoch 23/50\n",
      "7750/7750 [==============================] - 1s 93us/sample - loss: 0.2391 - accuracy: 0.9068 - val_loss: 0.8896 - val_accuracy: 0.6326\n",
      "Epoch 24/50\n",
      "7750/7750 [==============================] - 1s 90us/sample - loss: 0.2267 - accuracy: 0.9143 - val_loss: 0.8937 - val_accuracy: 0.6419\n",
      "Epoch 25/50\n",
      "7750/7750 [==============================] - 1s 74us/sample - loss: 0.2211 - accuracy: 0.9187 - val_loss: 0.8971 - val_accuracy: 0.6156\n",
      "Epoch 26/50\n",
      "7750/7750 [==============================] - 1s 72us/sample - loss: 0.2186 - accuracy: 0.9152 - val_loss: 0.9022 - val_accuracy: 0.6440\n",
      "Epoch 27/50\n",
      "7750/7750 [==============================] - 1s 72us/sample - loss: 0.2104 - accuracy: 0.9209 - val_loss: 0.8957 - val_accuracy: 0.6362\n",
      "Epoch 28/50\n",
      "7750/7750 [==============================] - 1s 72us/sample - loss: 0.2013 - accuracy: 0.9234 - val_loss: 0.8855 - val_accuracy: 0.6218\n",
      "Epoch 29/50\n",
      "7750/7750 [==============================] - 1s 72us/sample - loss: 0.2001 - accuracy: 0.9217 - val_loss: 0.9276 - val_accuracy: 0.6249\n",
      "Epoch 30/50\n",
      "7750/7750 [==============================] - 1s 77us/sample - loss: 0.2012 - accuracy: 0.9243 - val_loss: 0.9275 - val_accuracy: 0.6218\n",
      "Epoch 31/50\n",
      "7750/7750 [==============================] - 1s 74us/sample - loss: 0.1867 - accuracy: 0.9276 - val_loss: 0.9362 - val_accuracy: 0.6259\n",
      "Epoch 32/50\n",
      "7750/7750 [==============================] - 1s 73us/sample - loss: 0.1767 - accuracy: 0.9325 - val_loss: 0.9709 - val_accuracy: 0.6233\n",
      "Epoch 33/50\n",
      "7750/7750 [==============================] - 1s 73us/sample - loss: 0.1761 - accuracy: 0.9333 - val_loss: 0.9544 - val_accuracy: 0.6460\n",
      "Epoch 34/50\n",
      "7750/7750 [==============================] - 1s 81us/sample - loss: 0.1714 - accuracy: 0.9342 - val_loss: 0.9992 - val_accuracy: 0.6187\n",
      "Epoch 35/50\n",
      "7750/7750 [==============================] - 1s 75us/sample - loss: 0.1727 - accuracy: 0.9339 - val_loss: 0.9665 - val_accuracy: 0.6223\n",
      "Epoch 36/50\n",
      "7750/7750 [==============================] - 1s 74us/sample - loss: 0.1717 - accuracy: 0.9387 - val_loss: 0.9805 - val_accuracy: 0.6249\n",
      "Epoch 37/50\n",
      "7750/7750 [==============================] - 1s 73us/sample - loss: 0.1624 - accuracy: 0.9401 - val_loss: 0.9675 - val_accuracy: 0.6538\n",
      "Epoch 38/50\n",
      "7750/7750 [==============================] - 1s 74us/sample - loss: 0.1489 - accuracy: 0.9459 - val_loss: 1.0340 - val_accuracy: 0.6584\n",
      "Epoch 39/50\n",
      "7750/7750 [==============================] - 1s 73us/sample - loss: 0.1590 - accuracy: 0.9382 - val_loss: 1.0360 - val_accuracy: 0.6259\n",
      "Epoch 40/50\n",
      "7750/7750 [==============================] - 1s 74us/sample - loss: 0.1500 - accuracy: 0.9445 - val_loss: 1.0911 - val_accuracy: 0.6115\n",
      "Epoch 41/50\n",
      "7750/7750 [==============================] - 1s 72us/sample - loss: 0.1555 - accuracy: 0.9396 - val_loss: 1.1638 - val_accuracy: 0.6094\n",
      "Epoch 42/50\n",
      "7750/7750 [==============================] - 1s 73us/sample - loss: 0.1497 - accuracy: 0.9437 - val_loss: 1.1530 - val_accuracy: 0.6311\n",
      "Epoch 43/50\n",
      "7750/7750 [==============================] - 1s 72us/sample - loss: 0.1477 - accuracy: 0.9462 - val_loss: 1.1934 - val_accuracy: 0.6078\n",
      "Epoch 44/50\n",
      "7750/7750 [==============================] - 1s 73us/sample - loss: 0.1402 - accuracy: 0.9488 - val_loss: 1.1661 - val_accuracy: 0.6218\n",
      "Epoch 45/50\n",
      "7750/7750 [==============================] - 1s 73us/sample - loss: 0.1401 - accuracy: 0.9481 - val_loss: 1.2142 - val_accuracy: 0.5996\n",
      "Epoch 46/50\n",
      "7750/7750 [==============================] - 1s 72us/sample - loss: 0.1392 - accuracy: 0.9503 - val_loss: 1.1882 - val_accuracy: 0.6017\n",
      "Epoch 47/50\n",
      "7750/7750 [==============================] - 1s 74us/sample - loss: 0.1369 - accuracy: 0.9486 - val_loss: 1.2532 - val_accuracy: 0.6233\n",
      "Epoch 48/50\n",
      "7750/7750 [==============================] - 1s 72us/sample - loss: 0.1328 - accuracy: 0.9519 - val_loss: 1.2504 - val_accuracy: 0.5970\n",
      "Epoch 49/50\n",
      "7750/7750 [==============================] - 1s 73us/sample - loss: 0.1253 - accuracy: 0.9550 - val_loss: 1.3224 - val_accuracy: 0.6063\n",
      "Epoch 50/50\n",
      "7750/7750 [==============================] - 1s 74us/sample - loss: 0.1294 - accuracy: 0.9515 - val_loss: 1.3256 - val_accuracy: 0.5851\n"
     ]
    },
    {
     "data": {
      "text/plain": [
       "<tensorflow.python.keras.callbacks.History at 0x1f6f69c5be0>"
      ]
     },
     "execution_count": 6,
     "metadata": {},
     "output_type": "execute_result"
    }
   ],
   "source": [
    "model.fit(x, y, epochs=50, validation_split=0.2)"
   ]
  },
  {
   "cell_type": "code",
   "execution_count": 7,
   "metadata": {},
   "outputs": [
    {
     "data": {
      "image/png": "[encoded data removed]",
      "text/plain": [
       "<Figure size 432x288 with 1 Axes>"
      ]
     },
     "metadata": {
      "needs_background": "light"
     },
     "output_type": "display_data"
    }
   ],
   "source": [
    "plot_accuracy(model,\"ANN\")\n",
    "# plot_loss(model,\"ANN\")"
   ]
  },
  {
   "cell_type": "code",
   "execution_count": 8,
   "metadata": {},
   "outputs": [
    {
     "name": "stdout",
     "output_type": "stream",
     "text": [
      "9688/9688 [==============================] - 0s 33us/sample - loss: 0.2877 - accuracy: 0.9129\n",
      "accuracy: 91.28819108009338\n"
     ]
    }
   ],
   "source": [
    "scores = model.evaluate(x,y)\n",
    "print(\"{}: {}\".format(model.metrics_names[1], scores[1]*100))"
   ]
  },
  {
   "cell_type": "code",
   "execution_count": 9,
   "metadata": {},
   "outputs": [],
   "source": [
    "model.save(\"../models/model.h5\")"
   ]
  },
  {
   "cell_type": "code",
   "execution_count": 10,
   "metadata": {},
   "outputs": [],
   "source": [
    "# model_loaded = tf.keras.models.load_model(\"../models/model.h5\")"
   ]
  }
 ],
 "metadata": {
  "kernelspec": {
   "display_name": "Python 3",
   "language": "python",
   "name": "python3"
  },
  "language_info": {
   "codemirror_mode": {
    "name": "ipython",
    "version": 3
   },
   "file_extension": ".py",
   "mimetype": "text/x-python",
   "name": "python",
   "nbconvert_exporter": "python",
   "pygments_lexer": "ipython3",
   "version": "3.7.3"
  },
  "toc": {
   "base_numbering": 1,
   "nav_menu": {},
   "number_sections": true,
   "sideBar": true,
   "skip_h1_title": false,
   "title_cell": "Table of Contents",
   "title_sidebar": "Contents",
   "toc_cell": false,
   "toc_position": {},
   "toc_section_display": true,
   "toc_window_display": false
  }
 },
 "nbformat": 4,
 "nbformat_minor": 2
}
